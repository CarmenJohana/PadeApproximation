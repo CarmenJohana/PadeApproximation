{
  "nbformat": 4,
  "nbformat_minor": 0,
  "metadata": {
    "colab": {
      "provenance": []
    },
    "kernelspec": {
      "name": "python3",
      "display_name": "Python 3"
    },
    "language_info": {
      "name": "python"
    }
  },
  "cells": [
    {
      "cell_type": "code",
      "execution_count": null,
      "metadata": {
        "id": "GTt72_GFeR8W"
      },
      "outputs": [],
      "source": [
        "def egcd_pade_canonico(q, pol_f, pol_g, k):\n",
        "    \"\"\"\n",
        "    EEA 'canónico' para Padé sobre R = Zmod(q)[x].\n",
        "\n",
        "    ENTRADA:\n",
        "      q      : entero (típicamente primo). Trabajamos en Z/qZ.\n",
        "      pol_f  : coeficientes de f (por ejemplo [0,0,0,0,1] para x^4).\n",
        "      pol_g  : coeficientes de g (por ejemplo [1,2,3,4] para 1+2x+3x^2+4x^3).\n",
        "      k      : umbral para detenerse en la primera fila j con deg(r_j) < k.\n",
        "\n",
        "    SALIDA:\n",
        "      (\"ok\", r_can, t_can, j)    si existe el Padé (k, n-k), con t_can mónico,\n",
        "      (\"unsat\", rj, tj, j)       si el sistema NO es soluble (certificado).\n",
        "\n",
        "    Notas:\n",
        "      - Se preservan las invariantes r_i = s_i f + t_i g.\n",
        "      - Cada fila se normaliza para que lc(r_i) = 1 y se propaga a s_i, t_i.\n",
        "      - Requiere que lc(f), lc(g) sean invertibles en Z/qZ.\n",
        "    \"\"\"\n",
        "    R = PolynomialRing(Zmod(q), 'x'); x = R.gen()\n",
        "    f = R(pol_f)\n",
        "    g = R(pol_g)\n",
        "\n",
        "    if f.is_zero() or g.is_zero():\n",
        "        raise ValueError(\"f y g deben ser no nulos.\")\n",
        "\n",
        "    # Normalización inicial y (s0,t0), (s1,t1) correctos\n",
        "    inv_lc_f = 1 / f.leading_coefficient()\n",
        "    inv_lc_g = 1 / g.leading_coefficient()\n",
        "\n",
        "    r = [f * inv_lc_f, g * inv_lc_g]\n",
        "    s = [R(inv_lc_f), R(0)]\n",
        "    t = [R(0),         R(inv_lc_g)]\n",
        "\n",
        "    i = 1\n",
        "    while True:\n",
        "        # Criterio de parada: primera fila con deg(r_i) < k\n",
        "        if r[i].is_zero():\n",
        "            # nos quedamos con la última fila válida i-1\n",
        "            j = i - 1\n",
        "            rj, tj = r[j], t[j]\n",
        "            if rj.degree() < k and rj.gcd(tj) == 1:\n",
        "                tau = tj.leading_coefficient()\n",
        "                return (\"ok\", rj / tau, tj / tau, j)\n",
        "            return (\"unsat\", rj, tj, j)\n",
        "\n",
        "        if r[i].degree() < k:\n",
        "            j = i\n",
        "            rj, tj = r[j], t[j]\n",
        "            if rj.gcd(tj) == 1:\n",
        "                tau = tj.leading_coefficient()\n",
        "                return (\"ok\", rj / tau, tj / tau, j)\n",
        "            return (\"unsat\", rj, tj, j)\n",
        "\n",
        "        # Paso EEA\n",
        "        qi, ri1 = r[i-1].quo_rem(r[i])\n",
        "        si1 = s[i-1] - qi * s[i]\n",
        "        ti1 = t[i-1] - qi * t[i]\n",
        "\n",
        "        # Normalización de la nueva fila: lc(r_{i+1}) = 1 y propagar a s,t\n",
        "        if not ri1.is_zero():\n",
        "            inv_lc = 1 / ri1.leading_coefficient()\n",
        "            ri1 *= inv_lc\n",
        "            si1 *= inv_lc\n",
        "            ti1 *= inv_lc\n",
        "\n",
        "        r.append(ri1)\n",
        "        s.append(si1)\n",
        "        t.append(ti1)\n",
        "        i += 1\n",
        "\n",
        "\n",
        "# ===== Ejemplo de uso =====\n",
        "# Padé (k=2, n-k=2) sobre F_5 con f = x^4 y g = 1+2x+3x^2+4x^3\n",
        "res = egcd_pade_canonico(5, [0,0,0,0,1], [1,2,3,4], k=2)\n",
        "print(res)\n",
        "# Esperado: (\"ok\", r_can, t_can, j) con t_can mónico, y r_can/t_can el Padé (2,2).\n"
      ]
    },
    {
      "cell_type": "code",
      "source": [
        "('ok', 1, x^2 + 3*x + 1, 3)"
      ],
      "metadata": {
        "id": "nKENtHmKfChU"
      },
      "execution_count": null,
      "outputs": []
    },
    {
      "cell_type": "markdown",
      "source": [
        "**estado:** ok\n",
        "\n",
        "\\( r_{\\text{can}} = 1 \\)\n",
        "\n",
        "\\( t_{\\text{can}} = x^{2} + 3x + 1 \\in \\mathbb{F}_5[x] \\)\n",
        "\n",
        "\\( j = 3 \\)\n",
        "\n",
        "Es exactamente el Padé \\((k, n-k) = (2, 2)\\) esperado.\n",
        "\n",
        "\n",
        "\n",
        "**Chequeo rápido (en \\(\\mathbb{F}_5\\), módulo \\(x^4\\)):**\n",
        "\n",
        "\\( t \\cdot g = (x^2 + 3x + 1)(1 + 2x + 3x^2 + 4x^3) \\equiv 1 \\pmod{x^4} \\),\n",
        "\n",
        "porque al expandir:\n",
        "- término constante: \\(1\\);\n",
        "- coeficientes de \\(x, x^2, x^3\\) suman \\(0 \\bmod 5\\);\n",
        "- términos \\(\\ge x^4\\) se anulan \\(\\bmod x^4\\).\n",
        "\n",
        "Así \\( r \\equiv t\\,g \\; (\\bmod x^4) \\) con \\(\\deg r = 0 < k = 2\\) y \\(\\deg t = 2 \\le n-k = 2\\).\n",
        "Además \\(\\gcd(r,t) = \\gcd(1,t) = 1\\), y el denominador ya quedó mónico, así que estás en forma canónica.\n",
        "\n",
        "**Interpretación:** el aproximante de Padé es\n",
        "\\[\n",
        "\\frac{r}{t} = \\frac{1}{x^2 + 3x + 1} \\quad \\text{en } \\mathbb{F}_5(x).\n",
        "\\]\n"
      ],
      "metadata": {
        "id": "lRdELCnZfkJL"
      }
    }
  ]
}